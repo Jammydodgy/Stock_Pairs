{
 "cells": [
  {
   "cell_type": "code",
   "execution_count": 3,
   "id": "059cf6cd-24a6-4c1f-bffb-919126bf5f0c",
   "metadata": {},
   "outputs": [
    {
     "name": "stdout",
     "output_type": "stream",
     "text": [
      "Requirement already satisfied: yfinance in /opt/conda/lib/python3.11/site-packages (0.2.53)\n",
      "Requirement already satisfied: pandas>=1.3.0 in /opt/conda/lib/python3.11/site-packages (from yfinance) (2.1.1)\n",
      "Requirement already satisfied: numpy>=1.16.5 in /opt/conda/lib/python3.11/site-packages (from yfinance) (1.24.4)\n",
      "Requirement already satisfied: requests>=2.31 in /opt/conda/lib/python3.11/site-packages (from yfinance) (2.31.0)\n",
      "Requirement already satisfied: multitasking>=0.0.7 in /opt/conda/lib/python3.11/site-packages (from yfinance) (0.0.11)\n",
      "Requirement already satisfied: platformdirs>=2.0.0 in /opt/conda/lib/python3.11/site-packages (from yfinance) (3.11.0)\n",
      "Requirement already satisfied: pytz>=2022.5 in /opt/conda/lib/python3.11/site-packages (from yfinance) (2023.3.post1)\n",
      "Requirement already satisfied: frozendict>=2.3.4 in /opt/conda/lib/python3.11/site-packages (from yfinance) (2.4.6)\n",
      "Requirement already satisfied: peewee>=3.16.2 in /opt/conda/lib/python3.11/site-packages (from yfinance) (3.17.9)\n",
      "Requirement already satisfied: beautifulsoup4>=4.11.1 in /opt/conda/lib/python3.11/site-packages (from yfinance) (4.12.2)\n",
      "Requirement already satisfied: soupsieve>1.2 in /opt/conda/lib/python3.11/site-packages (from beautifulsoup4>=4.11.1->yfinance) (2.5)\n",
      "Requirement already satisfied: python-dateutil>=2.8.2 in /opt/conda/lib/python3.11/site-packages (from pandas>=1.3.0->yfinance) (2.8.2)\n",
      "Requirement already satisfied: tzdata>=2022.1 in /opt/conda/lib/python3.11/site-packages (from pandas>=1.3.0->yfinance) (2023.3)\n",
      "Requirement already satisfied: charset-normalizer<4,>=2 in /opt/conda/lib/python3.11/site-packages (from requests>=2.31->yfinance) (3.3.0)\n",
      "Requirement already satisfied: idna<4,>=2.5 in /opt/conda/lib/python3.11/site-packages (from requests>=2.31->yfinance) (3.4)\n",
      "Requirement already satisfied: urllib3<3,>=1.21.1 in /opt/conda/lib/python3.11/site-packages (from requests>=2.31->yfinance) (2.0.7)\n",
      "Requirement already satisfied: certifi>=2017.4.17 in /opt/conda/lib/python3.11/site-packages (from requests>=2.31->yfinance) (2023.7.22)\n",
      "Requirement already satisfied: six>=1.5 in /opt/conda/lib/python3.11/site-packages (from python-dateutil>=2.8.2->pandas>=1.3.0->yfinance) (1.16.0)\n",
      "Note: you may need to restart the kernel to use updated packages.\n"
     ]
    }
   ],
   "source": [
    "pip install yfinance"
   ]
  },
  {
   "cell_type": "code",
   "execution_count": 93,
   "id": "3fa608ee-61a5-4a62-b7c0-35bc4251b7cb",
   "metadata": {},
   "outputs": [],
   "source": [
    "import yfinance as yf\n",
    "import pandas as pd\n",
    "\n",
    "csv = pd.read_csv('constituents.csv')"
   ]
  },
  {
   "cell_type": "code",
   "execution_count": 94,
   "id": "cb5d63fc-d1d9-43a1-be9b-41a03ac77ef3",
   "metadata": {},
   "outputs": [
    {
     "name": "stdout",
     "output_type": "stream",
     "text": [
      "['MMM', 'AOS', 'ABT', 'ABBV', 'ACN']\n"
     ]
    }
   ],
   "source": [
    "print(list(csv['Symbol'])[:5])"
   ]
  },
  {
   "cell_type": "code",
   "execution_count": 37,
   "id": "8af4e5ae-6c91-4d4f-9bb3-932b45d685df",
   "metadata": {},
   "outputs": [
    {
     "name": "stderr",
     "output_type": "stream",
     "text": [
      "[**********************70%*********              ]  351 of 503 completedCould not get exchangeTimezoneName for ticker 'HWM' reason: 'chart'\n",
      "[*********************100%***********************]  503 of 503 completed\n",
      "\n",
      "6 Failed downloads:\n",
      "['SOLV', 'GEV', 'SW']: YFPricesMissingError('possibly delisted; no price data found  (1d 2022-01-01 -> 2024-01-01) (Yahoo error = \"Data doesn\\'t exist for startDate = 1641013200, endDate = 1704085200\")')\n",
      "['BF.B']: YFPricesMissingError('possibly delisted; no price data found  (1d 2022-01-01 -> 2024-01-01)')\n",
      "['BRK.B', 'HWM']: YFTzMissingError('possibly delisted; no timezone found')\n"
     ]
    }
   ],
   "source": [
    "stock_list = list(csv['Symbol'])\n",
    "stock_information = yf.download(stock_list, start='2022-01-01', end='2024-01-01')"
   ]
  },
  {
   "cell_type": "code",
   "execution_count": 33,
   "id": "3cc5b89c-30e3-46bd-b5a2-20abc547ccf0",
   "metadata": {},
   "outputs": [
    {
     "name": "stdout",
     "output_type": "stream",
     "text": [
      "Price            Close        High         Low        Open     Volume\n",
      "Date                                                                 \n",
      "2023-01-03  123.632515  129.395502  122.742858  128.782633  112117500\n",
      "2023-01-04  124.907692  127.181260  123.642405  125.431599   89113600\n",
      "2023-01-05  123.583107  126.301500  123.326101  125.668857   80962700\n",
      "2023-01-06  128.130219  128.792516  123.454587  124.561717   87754700\n",
      "2023-01-09  128.654144  131.876686  128.397138  128.970474   70790800\n",
      "...                ...         ...         ...         ...        ...\n",
      "2023-12-22  192.444580  194.243775  191.818335  194.015137   37122800\n",
      "2023-12-26  191.897873  192.732856  191.679185  192.454528   28919300\n",
      "2023-12-27  191.997284  192.345201  189.949580  191.341234   48087700\n",
      "2023-12-28  192.424713  193.498269  192.017156  192.981369   34049900\n",
      "2023-12-29  191.380966  193.239801  190.585738  192.742785   42628800\n",
      "\n",
      "[250 rows x 5 columns]\n"
     ]
    }
   ],
   "source": [
    "print(stock_information.xs('AAPL', level=1, axis=1))"
   ]
  },
  {
   "cell_type": "code",
   "execution_count": 95,
   "id": "3b4ef463-5062-4ab6-8d0e-aab778de5d13",
   "metadata": {},
   "outputs": [
    {
     "name": "stdout",
     "output_type": "stream",
     "text": [
      "Date\n",
      "2022-01-03    178.879913\n",
      "2022-01-04    176.609619\n",
      "2022-01-05    171.911850\n",
      "2022-01-06    169.042053\n",
      "2022-01-07    169.209122\n",
      "                 ...    \n",
      "2023-12-22    192.444595\n",
      "2023-12-26    191.897873\n",
      "2023-12-27    191.997269\n",
      "2023-12-28    192.424713\n",
      "2023-12-29    191.380951\n",
      "Name: AAPL, Length: 501, dtype: float64\n",
      "\n",
      "\n",
      "Date\n",
      "2022-01-03    174.090652\n",
      "2022-01-04    175.044281\n",
      "2022-01-05    174.361801\n",
      "2022-01-06    173.847595\n",
      "2022-01-07    168.668167\n",
      "                 ...    \n",
      "2023-12-22    140.715073\n",
      "2023-12-26    142.646988\n",
      "2023-12-27    142.901962\n",
      "2023-12-28    143.039246\n",
      "2023-12-29    141.833023\n",
      "Name: QCOM, Length: 501, dtype: float64\n"
     ]
    }
   ],
   "source": [
    "aapl_close = stock_information['Close']['AAPL']\n",
    "qcom_close = stock_information['Close']['QCOM']\n",
    "print(aapl_close)\n",
    "print(\"\\n\")\n",
    "print(qcom_close)"
   ]
  },
  {
   "cell_type": "code",
   "execution_count": 102,
   "id": "1e1f8503-1046-4818-b49a-f88359e60028",
   "metadata": {},
   "outputs": [
    {
     "name": "stdout",
     "output_type": "stream",
     "text": [
      "Correlation: 0.12945347573403376\n"
     ]
    }
   ],
   "source": [
    "correlation = qcom_close.corr(aapl_close)\n",
    "print(\"Correlation: \" + f\"{correlation}\")"
   ]
  },
  {
   "cell_type": "code",
   "execution_count": 115,
   "id": "c5f7f9a5-dd93-4b64-84dd-cbd906ec370c",
   "metadata": {},
   "outputs": [
    {
     "name": "stdout",
     "output_type": "stream",
     "text": [
      "Ticker         A      AAPL      ABBV      ABNB       ABT\n",
      "Ticker                                                  \n",
      "A       1.000000 -0.385216  0.236380 -0.119114  0.385753\n",
      "AAPL   -0.385216  1.000000 -0.102390  0.585909  0.074876\n",
      "ABBV    0.236380 -0.102390  1.000000 -0.151612 -0.197152\n",
      "ABNB   -0.119114  0.585909 -0.151612  1.000000  0.558956\n",
      "ABT     0.385753  0.074876 -0.197152  0.558956  1.000000\n"
     ]
    }
   ],
   "source": [
    "close_prices = stock_information['Close']\n",
    "correlation_matrix = close_prices.corr().iloc[:5, :5]\n",
    "print(correlation_matrix)"
   ]
  },
  {
   "cell_type": "code",
   "execution_count": 52,
   "id": "37778fc8-0087-42d4-89d2-677ab734c802",
   "metadata": {},
   "outputs": [],
   "source": [
    "# Creates an array of stock pairs (X,Y) with correlation > 0.8\n",
    "\n",
    "stock_pair = []\n",
    "n = len(correlation_matrix)\n",
    "for i in range(n):\n",
    "    for j in range(n):\n",
    "        if (correlation_matrix.iloc[i,j] >= 0.8) and (i > j):\n",
    "            stock_pair.append([correlation_matrix.index[i],correlation_matrix.index[j]])"
   ]
  },
  {
   "cell_type": "code",
   "execution_count": 160,
   "id": "91a62db2-e893-4051-8fa6-a4733e3179d2",
   "metadata": {},
   "outputs": [
    {
     "name": "stdout",
     "output_type": "stream",
     "text": [
      "Date\n",
      "2024-01-02    173.535379\n",
      "2024-01-03    172.359890\n",
      "2024-01-04    170.146027\n",
      "2024-01-05    169.376450\n",
      "2024-01-08    173.549953\n",
      "dtype: float64\n"
     ]
    }
   ],
   "source": [
    "from sklearn.linear_model import LinearRegression\n",
    "import numpy as np\n",
    "\n",
    "# Calculates the spread between 2 stocks\n",
    "\n",
    "def spread(a,b):\n",
    "\n",
    "    # Extract price series\n",
    "    x_series = refined_stock_information['Close'][a]\n",
    "    y_series = refined_stock_information['Close'][b]\n",
    "    \n",
    "    # Create a combined DataFrame to align and drop NaNs\n",
    "    df = pd.DataFrame({'x': x_series, 'y': y_series}).dropna()\n",
    "    if len(df) == 0:  # All data is NaN\n",
    "        return x_series * 0  # Return zeros with same index\n",
    "    \n",
    "    # Reshape data for regression\n",
    "    x = df['x'].values.reshape(-1, 1)\n",
    "    y = df['y'].values\n",
    "    \n",
    "    # Fit regression model\n",
    "    model = LinearRegression().fit(x, y)\n",
    "    beta = model.coef_[0]\n",
    "    \n",
    "    # Calculate spread for all original indices\n",
    "    spread = x_series - beta * y_series  # NaNs will remain where data was missing\n",
    "    return spread\n",
    "\n",
    "print(spread('AAPL','QCOM')[:5])"
   ]
  },
  {
   "cell_type": "code",
   "execution_count": 134,
   "id": "83c6e70e-86a2-41b5-a5cd-3ff6014942fc",
   "metadata": {},
   "outputs": [],
   "source": [
    "import copy\n",
    "\n",
    "#Normlalises spread\n",
    "\n",
    "def normalise(X):\n",
    "    mean = X.mean()\n",
    "    std = X.std()\n",
    "    Z = copy.deepcopy(X)\n",
    "    for i in range(len(X)):\n",
    "        Z.iloc[i] = (X.iloc[i]-mean)/std\n",
    "    return Z\n",
    "        "
   ]
  },
  {
   "cell_type": "code",
   "execution_count": 135,
   "id": "78800012-0278-4905-99a1-eeb7599324c9",
   "metadata": {},
   "outputs": [
    {
     "name": "stdout",
     "output_type": "stream",
     "text": [
      "Date\n",
      "2022-01-03    0.618739\n",
      "2022-01-04    0.483608\n",
      "2022-01-05    0.222236\n",
      "2022-01-06    0.063236\n",
      "2022-01-07    0.108283\n",
      "dtype: float64\n"
     ]
    }
   ],
   "source": [
    "print(normalise(spread('AAPL','QCOM'))[:5])"
   ]
  },
  {
   "cell_type": "code",
   "execution_count": 144,
   "id": "53595b7e-efbd-4691-9556-520f3aac75a7",
   "metadata": {},
   "outputs": [
    {
     "name": "stdout",
     "output_type": "stream",
     "text": [
      "Max and min spread: 1.8933474721304477, -2.0348256117844805\n"
     ]
    }
   ],
   "source": [
    "upper = -float('inf')\n",
    "lower = float('inf')\n",
    "for z in normalise(spread('AAPL','QCOM')):\n",
    "    if z < lower:\n",
    "        lower = z\n",
    "    if z > upper:\n",
    "        upper = z\n",
    "print(f\"Max and min spread: {max}, {min}\")"
   ]
  },
  {
   "cell_type": "code",
   "execution_count": 86,
   "id": "604fd80e-ccda-4110-8849-1f0854513281",
   "metadata": {},
   "outputs": [
    {
     "name": "stderr",
     "output_type": "stream",
     "text": [
      "[*********************100%***********************]  451 of 451 completed\n"
     ]
    }
   ],
   "source": [
    "#Downloads stock information for stock canditates\n",
    "\n",
    "refined_stock_list = []\n",
    "for [a,b] in stock_pair:\n",
    "    if a not in refined_stock_list:\n",
    "        refined_stock_list.append(a)\n",
    "    if b not in refined_stock_list:\n",
    "        refined_stock_list.append(b)\n",
    "refined_stock_information = yf.download(refined_stock_list, start='2024-01-01', end='2025-01-01')"
   ]
  },
  {
   "cell_type": "code",
   "execution_count": 161,
   "id": "b5ea8660-875d-47a3-bc82-59f8bf215b2a",
   "metadata": {},
   "outputs": [],
   "source": [
    "#Create hashmap with key stockpair and value Z\n",
    "Z_hash = {}\n",
    "for (s,p) in stock_pair:\n",
    "    Z_hash[(s, p)] = normalise(spread(s, p)).ffill().fillna(0)"
   ]
  },
  {
   "cell_type": "code",
   "execution_count": 173,
   "id": "a83ed05f-ee5e-4508-a741-683d632643ef",
   "metadata": {},
   "outputs": [
    {
     "name": "stdout",
     "output_type": "stream",
     "text": [
      "Profit: 1401.3117971334261\n",
      "Required cashflow: 230.4624905574563\n",
      "Yearly rate of return: 608.0433278942054%\n",
      "10743 3531 4990\n"
     ]
    }
   ],
   "source": [
    "#Backtests trading algorithm from 2024 to 2025\n",
    "\n",
    "time = 0\n",
    "cash = 0\n",
    "trades = {} #Tracks active trades with the values indicating amount of stock owned\n",
    "d = 10 #price we spend on each trade in pounds\n",
    "min_cash = 0\n",
    "No_of_Buys = 0\n",
    "No_of_StopLoss = 0\n",
    "No_of_Sells = 0\n",
    "\n",
    "while time < len(Z_hash[list(Z_hash.keys())[0]]) - 1: #inefficient creates full list of keys\n",
    "    #print(time)\n",
    "    for (s,p) in stock_pair:\n",
    "        \n",
    "        if cash < min_cash:\n",
    "            min_cash = cash\n",
    "            \n",
    "        Z = Z_hash[(s,p)]\n",
    "        \n",
    "        if ((s,p) not in trades): #Buy condition\n",
    "            if ((Z.iloc[time] > 2) or (Z.iloc[time] < -2)):\n",
    "                No_of_Buys += 1\n",
    "                if refined_stock_information['Close'][s].iloc[time] <= refined_stock_information['Close'][p].iloc[time]:\n",
    "                    aos_s = d/refined_stock_information['Close'][s].iloc[time]  #long\n",
    "                    aos_p = d/refined_stock_information['Close'][p].iloc[time]  #Short\n",
    "                    trades[(s,p)] = (aos_s,-aos_p) \n",
    "                else:\n",
    "                    aos_p = d/refined_stock_information['Close'][p].iloc[time]  #long\n",
    "                    aos_s = d/refined_stock_information['Close'][s].iloc[time]  #Short\n",
    "                    trades[(s,p)] = (-aos_s,aos_p)\n",
    "                \n",
    "        elif ((Z.iloc[time] > 2.5) or (Z.iloc[time] < -2.5)): #Stop loss\n",
    "            No_of_StopLoss += 1\n",
    "            (aos_s,aos_p) = trades[(s,p)]\n",
    "            delta_cash = aos_s*refined_stock_information['Close'][s].iloc[time] + aos_p*refined_stock_information['Close'][p].iloc[time]\n",
    "            cash += delta_cash\n",
    "            del trades[(s,p)]\n",
    "            \n",
    "        elif -0.5 < Z.iloc[time] < 0.5: #Sell condition\n",
    "            No_of_Sells += 1\n",
    "            (aos_s,aos_p) = trades[(s,p)]\n",
    "            delta_cash = aos_s*refined_stock_information['Close'][s].iloc[time] + aos_p*refined_stock_information['Close'][p].iloc[time]\n",
    "            cash += delta_cash\n",
    "            del trades[(s,p)]\n",
    "            \n",
    "    time += 1\n",
    "\n",
    "#Liquidate position\n",
    "time -= 1\n",
    "for (a,b) in list(trades.keys()):\n",
    "    values = trades[(a,b)]\n",
    "    cash += refined_stock_information['Close'][a].iloc[time]*values[0] + refined_stock_information['Close'][b].iloc[time]*values[1]\n",
    "    del trades[(a,b)]\n",
    "\n",
    "print(f\"Profit: {cash}\")\n",
    "print(f\"Required cashflow: {-min_cash}\")\n",
    "print(f\"Yearly rate of return: {(-cash/min_cash)*100}%\")\n",
    "print(f\"Number of Buys: {No_of_Buys}\"\n",
    "print(f\"Number of StopLoss sells: {No_of_StopLoss}\")\n",
    "print(f\"Number of successful sells: {No_of_Sells})"
   ]
  },
  {
   "cell_type": "code",
   "execution_count": null,
   "id": "de41d5b3-6d9c-4ec9-aca6-12a2e84e4b74",
   "metadata": {},
   "outputs": [],
   "source": [
    "''assumptions — no transaction costs, perfect liquidity, unlimited shorting, and frictionless execution.\n",
    "With this volume of trades even a 0.10 fee on each purchase and sale would eliminate profits entirely and result in a loss''\n"
   ]
  }
 ],
 "metadata": {
  "kernelspec": {
   "display_name": "Python 3 (ipykernel)",
   "language": "python",
   "name": "python3"
  },
  "language_info": {
   "codemirror_mode": {
    "name": "ipython",
    "version": 3
   },
   "file_extension": ".py",
   "mimetype": "text/x-python",
   "name": "python",
   "nbconvert_exporter": "python",
   "pygments_lexer": "ipython3",
   "version": "3.11.6"
  }
 },
 "nbformat": 4,
 "nbformat_minor": 5
}
